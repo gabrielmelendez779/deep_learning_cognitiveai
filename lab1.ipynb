{
  "nbformat": 4,
  "nbformat_minor": 0,
  "metadata": {
    "colab": {
      "name": "lab1.ipynb",
      "provenance": [],
      "authorship_tag": "ABX9TyOyAkXfMFFk9YjQTxjKp/Pt",
      "include_colab_link": true
    },
    "kernelspec": {
      "name": "python3",
      "display_name": "Python 3"
    }
  },
  "cells": [
    {
      "cell_type": "markdown",
      "metadata": {
        "id": "view-in-github",
        "colab_type": "text"
      },
      "source": [
        "<a href=\"https://colab.research.google.com/github/gabrielmelendez779/deep_learning_cognitiveai/blob/main/lab1.ipynb\" target=\"_parent\"><img src=\"https://colab.research.google.com/assets/colab-badge.svg\" alt=\"Open In Colab\"/></a>"
      ]
    },
    {
      "cell_type": "code",
      "metadata": {
        "id": "L26xJ3HTxXOG"
      },
      "source": [
        "import tensorflow as tf"
      ],
      "execution_count": 45,
      "outputs": []
    },
    {
      "cell_type": "code",
      "metadata": {
        "id": "JK4_AaZf1w6W"
      },
      "source": [
        "graph1 = tf.Graph()"
      ],
      "execution_count": 46,
      "outputs": []
    },
    {
      "cell_type": "code",
      "metadata": {
        "id": "yAGt-UcpxrN_"
      },
      "source": [
        "with graph1.as_default():\n",
        "    a = tf.constant([2], name = 'constant_a')\n",
        "    b = tf.constant([3], name = 'constant_b')"
      ],
      "execution_count": 47,
      "outputs": []
    },
    {
      "cell_type": "markdown",
      "metadata": {
        "id": "oY0p6HzVxwxm"
      },
      "source": [
        "es importante notar que se usa el with para mantener abierta la sesion de tf\n",
        "el codigo anterio carga dos constantes a y b\n",
        "\n",
        "Este es el procedimiento para imprimir las costantes que creamos en el paso anterior\n"
      ]
    },
    {
      "cell_type": "code",
      "metadata": {
        "colab": {
          "base_uri": "https://localhost:8080/"
        },
        "id": "moekE4m6x5fq",
        "outputId": "18f54697-dbc6-4b10-fe6d-adcf4cf5d78f"
      },
      "source": [
        "# Printing the value of a\n",
        "tf.compat.v1.disable_eager_execution()\n",
        "## la linea de arriba deshabilita un tipo de error relacionadoc on eager exec\n",
        "sess = tf.compat.v1.Session(graph = graph1)\n",
        "result = sess.run(a)\n",
        "print(result)\n",
        "sess.close()"
      ],
      "execution_count": 48,
      "outputs": [
        {
          "output_type": "stream",
          "text": [
            "[2]\n"
          ],
          "name": "stdout"
        }
      ]
    },
    {
      "cell_type": "code",
      "metadata": {
        "id": "4OarYWScyFZl"
      },
      "source": [
        "with graph1.as_default():\n",
        "    c = tf.add(a, b)\n",
        "    #c = a + b is also a way to define the sum of the terms"
      ],
      "execution_count": 6,
      "outputs": []
    },
    {
      "cell_type": "code",
      "metadata": {
        "colab": {
          "base_uri": "https://localhost:8080/"
        },
        "id": "hxw5tuKZyI6j",
        "outputId": "63685daf-39fa-47fb-e5a9-a3d413882f59"
      },
      "source": [
        "sess =tf.compat.v1.Session(graph = graph1)\n",
        "\n",
        "result = sess.run(c)\n",
        "print(result)\n",
        "\n",
        "## para cerrar la sesion \n",
        "sess.close()"
      ],
      "execution_count": 8,
      "outputs": [
        {
          "output_type": "stream",
          "text": [
            "[5]\n"
          ],
          "name": "stdout"
        }
      ]
    },
    {
      "cell_type": "code",
      "metadata": {
        "colab": {
          "base_uri": "https://localhost:8080/"
        },
        "id": "S0yHBf_XyUDV",
        "outputId": "793e78d7-e387-4d7b-f9cd-35946f4cbe6a"
      },
      "source": [
        "#como evitamos cerrar y abrir sesiones todo el tiempo?\n",
        "with tf.compat.v1.Session(graph = graph1) as sess:\n",
        "    result = sess.run(c)\n",
        "    print(result)\n"
      ],
      "execution_count": 9,
      "outputs": [
        {
          "output_type": "stream",
          "text": [
            "[5]\n"
          ],
          "name": "stdout"
        }
      ]
    },
    {
      "cell_type": "markdown",
      "metadata": {
        "id": "BvvnAqP92e3h"
      },
      "source": [
        "En tf 2.0 en adelante no tiene asociado ningun atributo llamado Session pues fue deprecado y en su lugar quedaron funciones. \n",
        "https://stackoverflow.com/questions/55142951/tensorflow-2-0-attributeerror-module-tensorflow-has-no-attribute-session"
      ]
    },
    {
      "cell_type": "code",
      "metadata": {
        "colab": {
          "base_uri": "https://localhost:8080/"
        },
        "id": "nokOWfJkyeKg",
        "outputId": "734e2452-be98-49f1-d4a3-429b3a066376"
      },
      "source": [
        "## Definimos arreglos multidimensionales con tf\n",
        "\n",
        "graph2 = tf.Graph()\n",
        "with graph2.as_default():\n",
        "    Scalar = tf.constant(2)\n",
        "    Vector = tf.constant([5,6,2])\n",
        "    Matrix = tf.constant([[1,2,3],[2,3,4],[3,4,5]])\n",
        "    Tensor = tf.constant( [ [[1,2,3],[2,3,4],[3,4,5]] , [[4,5,6],[5,6,7],[6,7,8]] , [[7,8,9],[8,9,10],[9,10,11]] ] )\n",
        "with tf.compat.v1.Session(graph = graph2) as sess:\n",
        "    result = sess.run(Scalar)\n",
        "    print (\"Scalar (1 entry):\\n %s \\n\" % result)\n",
        "    result = sess.run(Vector)\n",
        "    print (\"Vector (3 entries) :\\n %s \\n\" % result)\n",
        "    result = sess.run(Matrix)\n",
        "    print (\"Matrix (3x3 entries):\\n %s \\n\" % result)\n",
        "    result = sess.run(Tensor)\n",
        "    print (\"Tensor (3x3x3 entries) :\\n %s \\n\" % result)"
      ],
      "execution_count": 11,
      "outputs": [
        {
          "output_type": "stream",
          "text": [
            "Scalar (1 entry):\n",
            " 2 \n",
            "\n",
            "Vector (3 entries) :\n",
            " [5 6 2] \n",
            "\n",
            "Matrix (3x3 entries):\n",
            " [[1 2 3]\n",
            " [2 3 4]\n",
            " [3 4 5]] \n",
            "\n",
            "Tensor (3x3x3 entries) :\n",
            " [[[ 1  2  3]\n",
            "  [ 2  3  4]\n",
            "  [ 3  4  5]]\n",
            "\n",
            " [[ 4  5  6]\n",
            "  [ 5  6  7]\n",
            "  [ 6  7  8]]\n",
            "\n",
            " [[ 7  8  9]\n",
            "  [ 8  9 10]\n",
            "  [ 9 10 11]]] \n",
            "\n"
          ],
          "name": "stdout"
        }
      ]
    },
    {
      "cell_type": "code",
      "metadata": {
        "colab": {
          "base_uri": "https://localhost:8080/"
        },
        "id": "dHsCwVvQyslR",
        "outputId": "012b2ec3-1ab4-4a8c-c7c8-63b1e9bcb4d7"
      },
      "source": [
        "#vemos la forma de cada\n",
        "Scalar.shape\n",
        "\n",
        "Tensor.shape"
      ],
      "execution_count": 12,
      "outputs": [
        {
          "output_type": "execute_result",
          "data": {
            "text/plain": [
              "TensorShape([3, 3, 3])"
            ]
          },
          "metadata": {
            "tags": []
          },
          "execution_count": 12
        }
      ]
    },
    {
      "cell_type": "code",
      "metadata": {
        "colab": {
          "base_uri": "https://localhost:8080/"
        },
        "id": "EnYAjwNPy1-P",
        "outputId": "b81ab28d-c880-4d9e-a4a3-08fdbf0edfc8"
      },
      "source": [
        "## juguemos un poco\n",
        "graph3 = tf.Graph()\n",
        "with graph3.as_default():\n",
        "    Matrix_one = tf.constant([[1,2,3],[2,3,4],[3,4,5]])\n",
        "    Matrix_two = tf.constant([[2,2,2],[2,2,2],[2,2,2]])\n",
        "\n",
        "    add_1_operation = tf.add(Matrix_one, Matrix_two)\n",
        "    add_2_operation = Matrix_one + Matrix_two\n",
        "\n",
        "with tf.compat.v1.Session(graph =graph3) as sess:\n",
        "    result = sess.run(add_1_operation)\n",
        "    print (\"Defined using tensorflow function :\")\n",
        "    print(result)\n",
        "    result = sess.run(add_2_operation)\n",
        "    print (\"Defined using normal expressions :\")\n",
        "    print(result)"
      ],
      "execution_count": 13,
      "outputs": [
        {
          "output_type": "stream",
          "text": [
            "Defined using tensorflow function :\n",
            "[[3 4 5]\n",
            " [4 5 6]\n",
            " [5 6 7]]\n",
            "Defined using normal expressions :\n",
            "[[3 4 5]\n",
            " [4 5 6]\n",
            " [5 6 7]]\n"
          ],
          "name": "stdout"
        }
      ]
    },
    {
      "cell_type": "code",
      "metadata": {
        "colab": {
          "base_uri": "https://localhost:8080/"
        },
        "id": "eOeIo_kby-YA",
        "outputId": "781c7692-491a-4c03-872a-2ef257a82f20"
      },
      "source": [
        "graph4 = tf.Graph()\n",
        "with graph4.as_default():\n",
        "    Matrix_one = tf.constant([[2,3],[3,4]])\n",
        "    Matrix_two = tf.constant([[2,3],[3,4]])\n",
        "\n",
        "    mul_operation = tf.matmul(Matrix_one, Matrix_two)\n",
        "\n",
        "with tf.compat.v1.Session(graph = graph4) as sess:\n",
        "    result = sess.run(mul_operation)\n",
        "    print (\"Defined using tensorflow function :\")\n",
        "    print(result)"
      ],
      "execution_count": 14,
      "outputs": [
        {
          "output_type": "stream",
          "text": [
            "Defined using tensorflow function :\n",
            "[[13 18]\n",
            " [18 25]]\n"
          ],
          "name": "stdout"
        }
      ]
    },
    {
      "cell_type": "code",
      "metadata": {
        "id": "m6-0QhxyzA7y"
      },
      "source": [
        "## variables\n",
        "\n",
        "v = tf.compat.v1.Variable(0)\n",
        "\n",
        "update = tf.compat.v1.assign(v, v+1)\n",
        "init_op = tf.compat.v1.global_variables_initializer()"
      ],
      "execution_count": 34,
      "outputs": []
    },
    {
      "cell_type": "code",
      "metadata": {
        "colab": {
          "base_uri": "https://localhost:8080/"
        },
        "id": "_4hWn_n7zaLW",
        "outputId": "c3f5e708-fe7c-443e-c749-ccd57a130c9e"
      },
      "source": [
        "## asi aplicamos una secuencia\n",
        "\n",
        "\n",
        "with tf.compat.v1.Session() as session:\n",
        "    session.run(init_op)\n",
        "    print(session.run(v))\n",
        "    for _ in range(3):\n",
        "        session.run(update)\n",
        "        print(session.run(v))"
      ],
      "execution_count": 35,
      "outputs": [
        {
          "output_type": "stream",
          "text": [
            "0\n",
            "1\n",
            "2\n",
            "3\n"
          ],
          "name": "stdout"
        }
      ]
    },
    {
      "cell_type": "markdown",
      "metadata": {
        "id": "sBHWxTmZz8uf"
      },
      "source": [
        "Placeholders can be seen as \"holes\" in your model, \"holes\" which you will pass the data to, you can create them using\n",
        "tf.placeholder(datatype), where datatype specifies the type of data (integers, floating points, strings, booleans) along with its precision (8, 16, 32, 64) bits."
      ]
    },
    {
      "cell_type": "code",
      "metadata": {
        "id": "EHJJPF7DzvGs"
      },
      "source": [
        "\n",
        "a = tf.compat.v1.placeholder(tf.float32)\n",
        "b = a * 2"
      ],
      "execution_count": 33,
      "outputs": []
    },
    {
      "cell_type": "code",
      "metadata": {
        "colab": {
          "base_uri": "https://localhost:8080/"
        },
        "id": "GYldFeT70_Bi",
        "outputId": "4483bc59-9561-4492-8538-ace8f70fb499"
      },
      "source": [
        "with tf.compat.v1.Session() as sess:\n",
        "    result = sess.run(b,feed_dict={a:3.5})\n",
        "    print (result)"
      ],
      "execution_count": 37,
      "outputs": [
        {
          "output_type": "stream",
          "text": [
            "7.0\n"
          ],
          "name": "stdout"
        }
      ]
    },
    {
      "cell_type": "code",
      "metadata": {
        "colab": {
          "base_uri": "https://localhost:8080/"
        },
        "id": "Ee78iczB1LEn",
        "outputId": "db949e5c-9f94-45ca-ff15-67bd86a32b8a"
      },
      "source": [
        "dictionary={a: [ [ [1,2,3],[4,5,6],[7,8,9],[10,11,12] ] , [ [13,14,15],[16,17,18],[19,20,21],[22,23,24] ] ] }\n",
        "\n",
        "with tf.compat.v1.Session() as sess:\n",
        "    result = sess.run(b,feed_dict=dictionary)\n",
        "    print (result)"
      ],
      "execution_count": 38,
      "outputs": [
        {
          "output_type": "stream",
          "text": [
            "[[[ 2.  4.  6.]\n",
            "  [ 8. 10. 12.]\n",
            "  [14. 16. 18.]\n",
            "  [20. 22. 24.]]\n",
            "\n",
            " [[26. 28. 30.]\n",
            "  [32. 34. 36.]\n",
            "  [38. 40. 42.]\n",
            "  [44. 46. 48.]]]\n"
          ],
          "name": "stdout"
        }
      ]
    },
    {
      "cell_type": "code",
      "metadata": {
        "colab": {
          "base_uri": "https://localhost:8080/"
        },
        "id": "ugxkXqQg1eqT",
        "outputId": "989ba30e-6c13-4021-e729-b04f7112eae9"
      },
      "source": [
        "graph5 = tf.Graph()\n",
        "with graph5.as_default():\n",
        "    a = tf.constant([5])\n",
        "    b = tf.constant([2])\n",
        "    c = tf.add(a,b)\n",
        "    d = tf.subtract(a,b)\n",
        "\n",
        "with tf.compat.v1.Session(graph = graph5) as sess:\n",
        "    result = sess.run(c)\n",
        "    print ('c =: %s' % result)\n",
        "    result = sess.run(d)\n",
        "    print ('d =: %s' % result)"
      ],
      "execution_count": 40,
      "outputs": [
        {
          "output_type": "stream",
          "text": [
            "c =: [7]\n",
            "d =: [3]\n"
          ],
          "name": "stdout"
        }
      ]
    }
  ]
}