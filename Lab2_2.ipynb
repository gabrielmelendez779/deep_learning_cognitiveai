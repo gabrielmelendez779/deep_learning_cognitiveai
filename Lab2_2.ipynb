{
  "nbformat": 4,
  "nbformat_minor": 0,
  "metadata": {
    "colab": {
      "name": "Lab2.2.ipynb",
      "provenance": [],
      "authorship_tag": "ABX9TyNTQZObEQJBsEKOLArnkXdT",
      "include_colab_link": true
    },
    "kernelspec": {
      "name": "python3",
      "display_name": "Python 3"
    }
  },
  "cells": [
    {
      "cell_type": "markdown",
      "metadata": {
        "id": "view-in-github",
        "colab_type": "text"
      },
      "source": [
        "<a href=\"https://colab.research.google.com/github/gabrielmelendez779/deep_learning_cognitiveai/blob/main/Lab2_2.ipynb\" target=\"_parent\"><img src=\"https://colab.research.google.com/assets/colab-badge.svg\" alt=\"Open In Colab\"/></a>"
      ]
    },
    {
      "cell_type": "code",
      "metadata": {
        "id": "V1-vEi40UHIT"
      },
      "source": [
        "import tensorflow as tf\n",
        "import pandas as pd\n",
        "import numpy as np\n",
        "import time\n",
        "from sklearn.datasets import load_iris\n",
        "from sklearn.model_selection import train_test_split\n",
        "import matplotlib.pyplot as plt"
      ],
      "execution_count": 1,
      "outputs": []
    },
    {
      "cell_type": "code",
      "metadata": {
        "id": "9k0okKjPj1D7"
      },
      "source": [
        "iris = load_iris()\n",
        "iris_X, iris_y = iris.data[:-1,:], iris.target[:-1]\n",
        "iris_y= pd.get_dummies(iris_y).values\n",
        "trainX, testX, trainY, testY = train_test_split(iris_X, iris_y, test_size=0.33, random_state=42)"
      ],
      "execution_count": 2,
      "outputs": []
    },
    {
      "cell_type": "code",
      "metadata": {
        "id": "dgagPZxxj3yA"
      },
      "source": [
        "# numFeatures is the number of features in our input data.\n",
        "# In the iris dataset, this number is '4'.\n",
        "numFeatures = trainX.shape[1]\n",
        "\n",
        "# numLabels is the number of classes our data points can be in.\n",
        "# In the iris dataset, this number is '3'.\n",
        "numLabels = trainY.shape[1]\n",
        "\n",
        "\n",
        "# Placeholders\n",
        "tf.compat.v1.disable_eager_execution()\n",
        "# 'None' means TensorFlow shouldn't expect a fixed number in that dimension\n",
        "X = tf.compat.v1.placeholder(tf.float32, [None, numFeatures]) # Iris has 4 features, so X is a tensor to hold our data.\n",
        "yGold = tf.compat.v1.placeholder(tf.float32, [None, numLabels]) # This will be our correct answers matrix for 3 classes."
      ],
      "execution_count": 3,
      "outputs": []
    },
    {
      "cell_type": "code",
      "metadata": {
        "id": "TaPJH9rekIA8"
      },
      "source": [
        "W = tf.Variable(tf.zeros([4, 3]))  # 4-dimensional input and  3 classes\n",
        "b = tf.Variable(tf.zeros([3])) # 3-dimensional output [0,0,1],[0,1,0],[1,0,0]"
      ],
      "execution_count": 4,
      "outputs": []
    },
    {
      "cell_type": "code",
      "metadata": {
        "id": "Cs1FaDR8kKd8"
      },
      "source": [
        "#Randomly sample from a normal distribution with standard deviation .01\n",
        "\n",
        "weights = tf.Variable(tf.random.normal([numFeatures,numLabels],\n",
        "                                       mean=0,\n",
        "                                       stddev=0.01,\n",
        "                                       name=\"weights\"))\n",
        "\n",
        "bias = tf.Variable(tf.random.normal([1,numLabels],\n",
        "                                    mean=0,\n",
        "                                    stddev=0.01,\n",
        "                                    name=\"bias\"))"
      ],
      "execution_count": 7,
      "outputs": []
    },
    {
      "cell_type": "code",
      "metadata": {
        "id": "BUnO8UmzkfDd"
      },
      "source": [
        "# Three-component breakdown of the Logistic Regression equation.\n",
        "# Note that these feed into each other.\n",
        "apply_weights_OP = tf.matmul(X, weights, name=\"apply_weights\")\n",
        "add_bias_OP = tf.add(apply_weights_OP, bias, name=\"add_bias\") \n",
        "activation_OP = tf.nn.sigmoid(add_bias_OP, name=\"activation\")"
      ],
      "execution_count": 8,
      "outputs": []
    },
    {
      "cell_type": "code",
      "metadata": {
        "id": "ervcD7kBkkQX"
      },
      "source": [
        "# Number of Epochs in our training\n",
        "numEpochs = 700\n",
        "\n",
        "# Defining our learning rate iterations (decay)\n",
        "learningRate = tf.compat.v1.train.exponential_decay(learning_rate=0.0008,\n",
        "                                          global_step= 1,\n",
        "                                          decay_steps=trainX.shape[0],\n",
        "                                          decay_rate= 0.95,\n",
        "                                          staircase=True)"
      ],
      "execution_count": 10,
      "outputs": []
    },
    {
      "cell_type": "code",
      "metadata": {
        "id": "ILUjj_AWlS_S"
      },
      "source": [
        "#Defining our cost function - Squared Mean Error\n",
        "cost_OP = tf.nn.l2_loss(activation_OP-yGold, name=\"squared_error_cost\")\n",
        "\n",
        "#Defining our Gradient Descent\n",
        "training_OP = tf.compat.v1.train.GradientDescentOptimizer(learningRate).minimize(cost_OP)"
      ],
      "execution_count": 12,
      "outputs": []
    },
    {
      "cell_type": "code",
      "metadata": {
        "id": "E7DTm-DTleNm"
      },
      "source": [
        "# Create a tensorflow session\n",
        "sess = tf.compat.v1.Session()\n",
        "\n",
        "# Initialize our weights and biases variables.\n",
        "init_OP = tf.compat.v1.global_variables_initializer()\n",
        "\n",
        "# Initialize all tensorflow variables\n",
        "sess.run(init_OP)"
      ],
      "execution_count": 14,
      "outputs": []
    },
    {
      "cell_type": "code",
      "metadata": {
        "id": "pRAbHOI5llBM"
      },
      "source": [
        "# argmax(activation_OP, 1) returns the label with the most probability\n",
        "# argmax(yGold, 1) is the correct label\n",
        "correct_predictions_OP = tf.compat.v1.equal(tf.argmax(activation_OP,1),tf.argmax(yGold,1))\n",
        "\n",
        "# If every false prediction is 0 and every true prediction is 1, the average returns us the accuracy\n",
        "accuracy_OP = tf.compat.v1.reduce_mean(tf.cast(correct_predictions_OP, \"float\"))\n",
        "\n",
        "# Summary op for regression output\n",
        "activation_summary_OP = tf.compat.v1.summary.histogram(\"output\", activation_OP)\n",
        "\n",
        "# Summary op for accuracy\n",
        "accuracy_summary_OP = tf.compat.v1.summary.scalar(\"accuracy\", accuracy_OP)\n",
        "\n",
        "# Summary op for cost\n",
        "cost_summary_OP = tf.compat.v1.summary.scalar(\"cost\", cost_OP)\n",
        "\n",
        "# Summary ops to check how variables (W, b) are updating after each iteration\n",
        "weightSummary = tf.compat.v1.summary.histogram(\"weights\", weights.eval(session=sess))\n",
        "biasSummary = tf.compat.v1.summary.histogram(\"biases\", bias.eval(session=sess))\n",
        "\n",
        "# Merge all summaries\n",
        "merged = tf.compat.v1.summary.merge([activation_summary_OP, accuracy_summary_OP, cost_summary_OP, weightSummary, biasSummary])\n",
        "\n",
        "# Summary writer\n",
        "writer = tf.compat.v1.summary.FileWriter(\"summary_logs\", sess.graph)"
      ],
      "execution_count": 17,
      "outputs": []
    },
    {
      "cell_type": "code",
      "metadata": {
        "colab": {
          "base_uri": "https://localhost:8080/"
        },
        "id": "9SrbYVKsmZA6",
        "outputId": "74bc36dd-b981-4b91-a4a0-1ae4ffad09cf"
      },
      "source": [
        "# Initialize reporting variables\n",
        "cost = 0\n",
        "diff = 1\n",
        "epoch_values = []\n",
        "accuracy_values = []\n",
        "cost_values = []\n",
        "\n",
        "# Training epochs\n",
        "for i in range(numEpochs):\n",
        "    if i > 1 and diff < .0001:\n",
        "        print(\"change in cost %g; convergence.\"%diff)\n",
        "        break\n",
        "    else:\n",
        "        # Run training step\n",
        "        step = sess.run(training_OP, feed_dict={X: trainX, yGold: trainY})\n",
        "        # Report occasional stats\n",
        "        if i % 10 == 0:\n",
        "            # Add epoch to epoch_values\n",
        "            epoch_values.append(i)\n",
        "            # Generate accuracy stats on test data\n",
        "            train_accuracy, newCost = sess.run([accuracy_OP, cost_OP], feed_dict={X: trainX, yGold: trainY})\n",
        "            # Add accuracy to live graphing variable\n",
        "            accuracy_values.append(train_accuracy)\n",
        "            # Add cost to live graphing variable\n",
        "            cost_values.append(newCost)\n",
        "            # Re-assign values for variables\n",
        "            diff = abs(newCost - cost)\n",
        "            cost = newCost\n",
        "\n",
        "            #generate print statements\n",
        "            print(\"step %d, training accuracy %g, cost %g, change in cost %g\"%(i, train_accuracy, newCost, diff))\n",
        "\n",
        "\n",
        "# How well do we perform on held-out test data?\n",
        "print(\"final accuracy on test set: %s\" %str(sess.run(accuracy_OP, \n",
        "                                                     feed_dict={X: testX, \n",
        "                                                                yGold: testY})))"
      ],
      "execution_count": 18,
      "outputs": [
        {
          "output_type": "stream",
          "text": [
            "step 0, training accuracy 0.333333, cost 34.3179, change in cost 34.3179\n",
            "step 10, training accuracy 0.59596, cost 30.0335, change in cost 4.28443\n",
            "step 20, training accuracy 0.646465, cost 28.0923, change in cost 1.94124\n",
            "step 30, training accuracy 0.646465, cost 26.4575, change in cost 1.63478\n",
            "step 40, training accuracy 0.646465, cost 25.1009, change in cost 1.3566\n",
            "step 50, training accuracy 0.646465, cost 23.9808, change in cost 1.12009\n",
            "step 60, training accuracy 0.646465, cost 23.0538, change in cost 0.926981\n",
            "step 70, training accuracy 0.646465, cost 22.2815, change in cost 0.77232\n",
            "step 80, training accuracy 0.646465, cost 21.6322, change in cost 0.64925\n",
            "step 90, training accuracy 0.646465, cost 21.081, change in cost 0.551241\n",
            "step 100, training accuracy 0.656566, cost 20.6082, change in cost 0.472792\n",
            "step 110, training accuracy 0.666667, cost 20.1987, change in cost 0.409544\n",
            "step 120, training accuracy 0.666667, cost 19.8405, change in cost 0.358122\n",
            "step 130, training accuracy 0.666667, cost 19.5246, change in cost 0.315954\n",
            "step 140, training accuracy 0.666667, cost 19.2435, change in cost 0.281061\n",
            "step 150, training accuracy 0.666667, cost 18.9916, change in cost 0.251945\n",
            "step 160, training accuracy 0.686869, cost 18.7641, change in cost 0.227453\n",
            "step 170, training accuracy 0.686869, cost 18.5574, change in cost 0.206682\n",
            "step 180, training accuracy 0.686869, cost 18.3685, change in cost 0.188944\n",
            "step 190, training accuracy 0.707071, cost 18.1948, change in cost 0.173676\n",
            "step 200, training accuracy 0.717172, cost 18.0344, change in cost 0.160456\n",
            "step 210, training accuracy 0.737374, cost 17.8854, change in cost 0.148941\n",
            "step 220, training accuracy 0.737374, cost 17.7466, change in cost 0.138844\n",
            "step 230, training accuracy 0.747475, cost 17.6166, change in cost 0.129946\n",
            "step 240, training accuracy 0.757576, cost 17.4946, change in cost 0.122059\n",
            "step 250, training accuracy 0.777778, cost 17.3795, change in cost 0.115038\n",
            "step 260, training accuracy 0.787879, cost 17.2708, change in cost 0.108757\n",
            "step 270, training accuracy 0.787879, cost 17.1677, change in cost 0.103113\n",
            "step 280, training accuracy 0.787879, cost 17.0697, change in cost 0.0980186\n",
            "step 290, training accuracy 0.787879, cost 16.9762, change in cost 0.0934048\n",
            "step 300, training accuracy 0.79798, cost 16.887, change in cost 0.0892105\n",
            "step 310, training accuracy 0.79798, cost 16.8017, change in cost 0.0853748\n",
            "step 320, training accuracy 0.79798, cost 16.7198, change in cost 0.0818748\n",
            "step 330, training accuracy 0.79798, cost 16.6411, change in cost 0.0786457\n",
            "step 340, training accuracy 0.808081, cost 16.5655, change in cost 0.0756798\n",
            "step 350, training accuracy 0.828283, cost 16.4925, change in cost 0.0729332\n",
            "step 360, training accuracy 0.828283, cost 16.4221, change in cost 0.0703888\n",
            "step 370, training accuracy 0.838384, cost 16.3541, change in cost 0.0680275\n",
            "step 380, training accuracy 0.838384, cost 16.2883, change in cost 0.0658207\n",
            "step 390, training accuracy 0.848485, cost 16.2245, change in cost 0.0637665\n",
            "step 400, training accuracy 0.848485, cost 16.1627, change in cost 0.0618382\n",
            "step 410, training accuracy 0.848485, cost 16.1027, change in cost 0.0600338\n",
            "step 420, training accuracy 0.848485, cost 16.0443, change in cost 0.0583363\n",
            "step 430, training accuracy 0.848485, cost 15.9876, change in cost 0.056736\n",
            "step 440, training accuracy 0.868687, cost 15.9324, change in cost 0.0552273\n",
            "step 450, training accuracy 0.868687, cost 15.8786, change in cost 0.0537996\n",
            "step 460, training accuracy 0.878788, cost 15.8261, change in cost 0.0524473\n",
            "step 470, training accuracy 0.878788, cost 15.7749, change in cost 0.0511675\n",
            "step 480, training accuracy 0.878788, cost 15.725, change in cost 0.0499496\n",
            "step 490, training accuracy 0.878788, cost 15.6762, change in cost 0.048789\n",
            "step 500, training accuracy 0.878788, cost 15.6285, change in cost 0.0476856\n",
            "step 510, training accuracy 0.878788, cost 15.5819, change in cost 0.0466328\n",
            "step 520, training accuracy 0.878788, cost 15.5363, change in cost 0.0456257\n",
            "step 530, training accuracy 0.888889, cost 15.4916, change in cost 0.0446644\n",
            "step 540, training accuracy 0.89899, cost 15.4478, change in cost 0.0437412\n",
            "step 550, training accuracy 0.89899, cost 15.405, change in cost 0.0428562\n",
            "step 560, training accuracy 0.89899, cost 15.363, change in cost 0.0420094\n",
            "step 570, training accuracy 0.89899, cost 15.3218, change in cost 0.041194\n",
            "step 580, training accuracy 0.89899, cost 15.2814, change in cost 0.0404091\n",
            "step 590, training accuracy 0.909091, cost 15.2417, change in cost 0.0396557\n",
            "step 600, training accuracy 0.909091, cost 15.2028, change in cost 0.0389261\n",
            "step 610, training accuracy 0.909091, cost 15.1646, change in cost 0.0382271\n",
            "step 620, training accuracy 0.909091, cost 15.127, change in cost 0.0375471\n",
            "step 630, training accuracy 0.909091, cost 15.0901, change in cost 0.0368967\n",
            "step 640, training accuracy 0.909091, cost 15.0539, change in cost 0.0362625\n",
            "step 650, training accuracy 0.909091, cost 15.0182, change in cost 0.0356512\n",
            "step 660, training accuracy 0.909091, cost 14.9832, change in cost 0.0350609\n",
            "step 670, training accuracy 0.909091, cost 14.9487, change in cost 0.034483\n",
            "step 680, training accuracy 0.909091, cost 14.9147, change in cost 0.0339317\n",
            "step 690, training accuracy 0.909091, cost 14.8813, change in cost 0.033391\n",
            "final accuracy on test set: 0.9\n"
          ],
          "name": "stdout"
        }
      ]
    },
    {
      "cell_type": "code",
      "metadata": {
        "colab": {
          "base_uri": "https://localhost:8080/",
          "height": 333
        },
        "id": "UXPZ18QsmhhW",
        "outputId": "71c55ad9-4293-4149-a192-e703e9a952ac"
      },
      "source": [
        "%matplotlib inline\n",
        "import numpy as np\n",
        "import matplotlib.pyplot as plt\n",
        "plt.plot([np.mean(cost_values[i-50:i]) for i in range(len(cost_values))])\n",
        "plt.show()"
      ],
      "execution_count": 19,
      "outputs": [
        {
          "output_type": "stream",
          "text": [
            "/usr/local/lib/python3.6/dist-packages/numpy/core/fromnumeric.py:3335: RuntimeWarning: Mean of empty slice.\n",
            "  out=out, **kwargs)\n",
            "/usr/local/lib/python3.6/dist-packages/numpy/core/_methods.py:161: RuntimeWarning: invalid value encountered in double_scalars\n",
            "  ret = ret.dtype.type(ret / rcount)\n"
          ],
          "name": "stderr"
        },
        {
          "output_type": "display_data",
          "data": {
            "image/png": "[encoded data removed]",
            "text/plain": [
              "<Figure size 432x288 with 1 Axes>"
            ]
          },
          "metadata": {
            "tags": [],
            "needs_background": "light"
          }
        }
      ]
    },
    {
      "cell_type": "markdown",
      "metadata": {
        "id": "n5IhvsoTmnlc"
      },
      "source": [
        "Como se hace en la version 2.x de tensorflow?\n",
        "\n",
        "Para eso vamos a referirnos al ejemplo que esta creado en https://www.tensorflow.org/tutorials/keras/regression que vamos aver en el siguiente notebook"
      ]
    }
  ]
}